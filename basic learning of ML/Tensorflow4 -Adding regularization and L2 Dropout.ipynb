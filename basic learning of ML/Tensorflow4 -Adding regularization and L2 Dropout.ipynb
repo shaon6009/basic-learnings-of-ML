{
 "cells": [
  {
   "cell_type": "code",
   "execution_count": 1,
   "id": "48846662",
   "metadata": {},
   "outputs": [],
   "source": [
    "import os \n",
    "os.environ['TFF_CPP_MIN_LOG_LEVEL'] = '2'"
   ]
  },
  {
   "cell_type": "code",
   "execution_count": 2,
   "id": "74f4877b",
   "metadata": {},
   "outputs": [],
   "source": [
    "import tensorflow as tf\n",
    "from tensorflow import keras\n",
    "from tensorflow.keras import layers, regularizers\n",
    "from tensorflow.keras.datasets import cifar10"
   ]
  },
  {
   "cell_type": "code",
   "execution_count": 3,
   "id": "c2cd8c4b",
   "metadata": {},
   "outputs": [],
   "source": [
    "(x_train, y_train), (x_test,y_test)=cifar10.load_data()\n",
    "x_train= x_train.astype(\"float32\")/255.0\n",
    "x_test= x_test.astype(\"float32\")/255.0"
   ]
  },
  {
   "cell_type": "code",
   "execution_count": 4,
   "id": "ff5ebcd4",
   "metadata": {},
   "outputs": [],
   "source": [
    "def my_model():\n",
    "    inputs = keras.Input(shape=(32, 32, 3))\n",
    "    x = layers.Conv2D(32, 3, padding='same', kernel_regularizer=regularizers.l2(0.01),)(inputs)\n",
    "    x = layers.BatchNormalization()(x)\n",
    "    x = keras.activations.relu(x)\n",
    "    x = layers.MaxPooling2D()(x)#it effectively reduces the size of the feature maps, which can help in reducing computational complexity and overfitting.\n",
    "    x = layers.Conv2D(64, 3, padding='same', kernel_regularizer=regularizers.l2(0.01),)(x)\n",
    "    x = layers.BatchNormalization()(x)\n",
    "    x = keras.activations.relu(x)\n",
    "    x = layers.MaxPooling2D()(x)\n",
    "    x = layers.Conv2D(128, 3, padding='same', kernel_regularizer=regularizers.l2(0.01),)(x)\n",
    "    x = layers.BatchNormalization()(x)\n",
    "    x = keras.activations.relu(x)\n",
    "    x = layers.Flatten()(x)\n",
    "    x = layers.Dense(64, activation=\"relu\", kernel_regularizer=regularizers.l2(0.01))(x)\n",
    "    x = layers.Dropout(0.5)(x)\n",
    "    outputs = layers.Dense(10)(x)\n",
    "    model = keras.Model(inputs=inputs, outputs=outputs)\n",
    "    return model"
   ]
  },
  {
   "cell_type": "code",
   "execution_count": 5,
   "id": "3ab7c48a",
   "metadata": {},
   "outputs": [],
   "source": [
    "model=my_model( )\n",
    "model.compile(\n",
    "    loss=keras.losses.SparseCategoricalCrossentropy(from_logits=True),\n",
    "    optimizer=keras.optimizers.Adam(learning_rate=3e-4),\n",
    "    metrics=[\"accuracy\"]\n",
    ")"
   ]
  },
  {
   "cell_type": "code",
   "execution_count": null,
   "id": "4e2802e3",
   "metadata": {},
   "outputs": [
    {
     "name": "stdout",
     "output_type": "stream",
     "text": [
      "Epoch 1/150\n",
      "782/782 - 39s - 50ms/step - accuracy: 0.3356 - loss: 3.0425\n",
      "Epoch 2/150\n",
      "782/782 - 32s - 41ms/step - accuracy: 0.4632 - loss: 1.9262\n",
      "Epoch 3/150\n",
      "782/782 - 33s - 42ms/step - accuracy: 0.5011 - loss: 1.6541\n",
      "Epoch 4/150\n",
      "782/782 - 34s - 43ms/step - accuracy: 0.5260 - loss: 1.5407\n",
      "Epoch 5/150\n",
      "782/782 - 34s - 43ms/step - accuracy: 0.5454 - loss: 1.4713\n",
      "Epoch 6/150\n",
      "782/782 - 32s - 41ms/step - accuracy: 0.5528 - loss: 1.4370\n",
      "Epoch 7/150\n",
      "782/782 - 32s - 41ms/step - accuracy: 0.5668 - loss: 1.3948\n",
      "Epoch 8/150\n",
      "782/782 - 33s - 42ms/step - accuracy: 0.5778 - loss: 1.3699\n",
      "Epoch 9/150\n",
      "782/782 - 32s - 42ms/step - accuracy: 0.5833 - loss: 1.3543\n",
      "Epoch 10/150\n",
      "782/782 - 33s - 43ms/step - accuracy: 0.5946 - loss: 1.3308\n",
      "Epoch 11/150\n",
      "782/782 - 36s - 46ms/step - accuracy: 0.6047 - loss: 1.3126\n",
      "Epoch 12/150\n",
      "782/782 - 33s - 42ms/step - accuracy: 0.6096 - loss: 1.2927\n",
      "Epoch 13/150\n",
      "782/782 - 34s - 43ms/step - accuracy: 0.6184 - loss: 1.2792\n",
      "Epoch 14/150\n",
      "782/782 - 33s - 42ms/step - accuracy: 0.6258 - loss: 1.2678\n",
      "Epoch 15/150\n",
      "782/782 - 33s - 42ms/step - accuracy: 0.6249 - loss: 1.2588\n",
      "Epoch 16/150\n",
      "782/782 - 33s - 43ms/step - accuracy: 0.6326 - loss: 1.2441\n",
      "Epoch 17/150\n",
      "782/782 - 29s - 37ms/step - accuracy: 0.6377 - loss: 1.2349\n",
      "Epoch 18/150\n",
      "782/782 - 29s - 36ms/step - accuracy: 0.6384 - loss: 1.2332\n",
      "Epoch 19/150\n",
      "782/782 - 28s - 36ms/step - accuracy: 0.6442 - loss: 1.2209\n",
      "Epoch 20/150\n",
      "782/782 - 29s - 37ms/step - accuracy: 0.6488 - loss: 1.2079\n",
      "Epoch 21/150\n"
     ]
    }
   ],
   "source": [
    "model.fit(x_train, y_train, batch_size=64, epochs=150, verbose=2)\n",
    "model.evaluate(x_test, y_test, batch_size=64, verbose=2)"
   ]
  },
  {
   "cell_type": "markdown",
   "id": "66877384",
   "metadata": {},
   "source": [
    "==================================================ALTERNATIVES================================================================== def my_model():\n",
    " \n",
    "    inputs = keras.Input(shape=(32, 32, 3))\n",
    "    \n",
    "    x = layers.Conv2D(32, 3, padding=\"same\", kernel_regularizer=regularizers.l2(0.01),)(\n",
    "        inputs\n",
    "    )\n",
    "    \n",
    "    x = layers.BatchNormalization()(x)\n",
    "    \n",
    "    x = keras.activations.relu(x)\n",
    "    \n",
    "    x = layers.MaxPooling2D()(x)\n",
    "    \n",
    "    x = layers.Conv2D(64, 3, padding=\"same\", kernel_regularizer=regularizers.l2(0.01),)(\n",
    "        x\n",
    "    )\n",
    "    \n",
    "    x = layers.BatchNormalization()(x)\n",
    "    \n",
    "    x = keras.activations.relu(x)\n",
    "    \n",
    "    x = layers.MaxPooling2D()(x)\n",
    "    \n",
    "    x = layers.Conv2D(\n",
    "        128, 3, padding=\"same\", kernel_regularizer=regularizers.l2(0.01),\n",
    "    )(x)\n",
    "    \n",
    "    x = layers.BatchNormalization()(x)\n",
    "    \n",
    "    x = keras.activations.relu(x)\n",
    "    \n",
    "    x = layers.Flatten()(x)\n",
    "    \n",
    "    x = layers.Dense(64, activation=\"relu\", kernel_regularizer=regularizers.l2(0.01),)(\n",
    "        x\n",
    "    )\n",
    "    \n",
    "    x = layers.Dropout(0.5)(x)\n",
    "    \n",
    "    outputs = layers.Dense(10)(x)\n",
    "    \n",
    "    model = keras.Model(inputs=inputs, outputs=outputs)\n",
    "    \n",
    "    return model"
   ]
  },
  {
   "cell_type": "code",
   "execution_count": null,
   "id": "a6badb9d",
   "metadata": {},
   "outputs": [],
   "source": []
  }
 ],
 "metadata": {
  "kernelspec": {
   "display_name": "Python 3 (ipykernel)",
   "language": "python",
   "name": "python3"
  },
  "language_info": {
   "codemirror_mode": {
    "name": "ipython",
    "version": 3
   },
   "file_extension": ".py",
   "mimetype": "text/x-python",
   "name": "python",
   "nbconvert_exporter": "python",
   "pygments_lexer": "ipython3",
   "version": "3.11.5"
  }
 },
 "nbformat": 4,
 "nbformat_minor": 5
}
