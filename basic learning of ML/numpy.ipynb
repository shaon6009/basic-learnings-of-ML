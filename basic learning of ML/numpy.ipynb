{
 "cells": [
  {
   "cell_type": "code",
   "execution_count": 1,
   "id": "5f585d55",
   "metadata": {},
   "outputs": [
    {
     "data": {
      "text/plain": [
       "[1, 16, 81, 256, 625, 1296, 2401, 4096]"
      ]
     },
     "execution_count": 1,
     "metadata": {},
     "output_type": "execute_result"
    }
   ],
   "source": [
    "[j**4 for j in range (1,9)]"
   ]
  },
  {
   "cell_type": "code",
   "execution_count": 13,
   "id": "18e37495",
   "metadata": {},
   "outputs": [
    {
     "name": "stdout",
     "output_type": "stream",
     "text": [
      "[1 2 3 4 5 6]\n",
      "1\n"
     ]
    }
   ],
   "source": [
    "import numpy as np\n",
    "x=[1,2,3,4,5,6]\n",
    "y=np.array(x)\n",
    "print(y)\n",
    "print(y.ndim)"
   ]
  },
  {
   "cell_type": "code",
   "execution_count": 7,
   "id": "b984c9fb",
   "metadata": {},
   "outputs": [
    {
     "name": "stdout",
     "output_type": "stream",
     "text": [
      "Enter :1\n",
      "Enter :2\n",
      "Enter :3\n",
      "Enter :4\n",
      "['1' '2' '3' '4']\n"
     ]
    }
   ],
   "source": [
    " x=[]\n",
    "for i in range (2,6):\n",
    "    int_1=int(input(\"Enter :\"))\n",
    "    x.append(int_1)\n",
    "    ##append means add new obj in exeisting array.\n",
    "print(np.array(x))"
   ]
  },
  {
   "cell_type": "code",
   "execution_count": 8,
   "id": "1e2f390a",
   "metadata": {},
   "outputs": [
    {
     "name": "stdout",
     "output_type": "stream",
     "text": [
      "[[1 2 3 4]\n",
      " [5 6 7 8]]\n"
     ]
    }
   ],
   "source": [
    "##2 dimentional array\n",
    "ar2=np.array([[1,2,3,4],[5,6,7,8]])\n",
    "print(ar2)"
   ]
  },
  {
   "cell_type": "code",
   "execution_count": 1,
   "id": "d4f4142e",
   "metadata": {},
   "outputs": [
    {
     "name": "stdout",
     "output_type": "stream",
     "text": [
      "[[[1, 2, 3, 4, 5], [3, 4, 5, 6, 7], [8, 6, 56, 5, 4]]]\n"
     ]
    }
   ],
   "source": [
    "##3d array\n",
    "import numpy as np\n",
    "ar3=([[[1,2,3,4,5],[3,4,5,6,7],[8,6,56,5,4]]])\n",
    "print(np.array(ar3))"
   ]
  },
  {
   "cell_type": "code",
   "execution_count": 3,
   "id": "a22d2bf4",
   "metadata": {},
   "outputs": [
    {
     "name": "stdout",
     "output_type": "stream",
     "text": [
      "[[[[[[[[[[1 2 3 4 5 6 7 8 9]]]]]]]]]]\n",
      "10\n"
     ]
    }
   ],
   "source": [
    "arn=np.array([1,2,3,4,5,6,7,8,9],ndmin=10)\n",
    "print(np.array(arn))\n",
    "print(arn.ndim)"
   ]
  },
  {
   "cell_type": "markdown",
   "id": "387444e8",
   "metadata": {},
   "source": [
    "# zero"
   ]
  },
  {
   "cell_type": "code",
   "execution_count": 24,
   "id": "e32a8548",
   "metadata": {},
   "outputs": [
    {
     "name": "stdout",
     "output_type": "stream",
     "text": [
      "[0. 0. 0. 0.]\n",
      "\n",
      "[[0. 0. 0. 0.]\n",
      " [0. 0. 0. 0.]\n",
      " [0. 0. 0. 0.]]\n"
     ]
    }
   ],
   "source": [
    "import numpy as nop\n",
    "ar_zero=nop.zeros(4)\n",
    "ar_zero1=nop.zeros((3,4))\n",
    "print(ar_zero)\n",
    "print()\n",
    "print(ar_zero1)"
   ]
  },
  {
   "cell_type": "markdown",
   "id": "843d4219",
   "metadata": {},
   "source": [
    "# ones"
   ]
  },
  {
   "cell_type": "code",
   "execution_count": 25,
   "id": "16df6a3e",
   "metadata": {},
   "outputs": [
    {
     "name": "stdout",
     "output_type": "stream",
     "text": [
      "[1. 1. 1. 1.]\n"
     ]
    }
   ],
   "source": [
    "ar_one=nop.ones(4)\n",
    "print(ar_one)"
   ]
  },
  {
   "cell_type": "markdown",
   "id": "ed7276f0",
   "metadata": {},
   "source": [
    "# identity matrix"
   ]
  },
  {
   "cell_type": "code",
   "execution_count": 26,
   "id": "7d3f6c49",
   "metadata": {},
   "outputs": [
    {
     "name": "stdout",
     "output_type": "stream",
     "text": [
      "[[1. 0. 0. 0.]\n",
      " [0. 1. 0. 0.]\n",
      " [0. 0. 1. 0.]\n",
      " [0. 0. 0. 1.]]\n"
     ]
    }
   ],
   "source": [
    "ar_dia=nop.eye(4)\n",
    "print(ar_dia)"
   ]
  },
  {
   "cell_type": "code",
   "execution_count": 28,
   "id": "d0270dd9",
   "metadata": {},
   "outputs": [
    {
     "name": "stdout",
     "output_type": "stream",
     "text": [
      "[[1. 0. 0. 0. 0.]\n",
      " [0. 1. 0. 0. 0.]\n",
      " [0. 0. 1. 0. 0.]]\n"
     ]
    }
   ],
   "source": [
    "ar_dia=nop.eye(3,5)\n",
    "print(ar_dia)"
   ]
  },
  {
   "cell_type": "markdown",
   "id": "9fdb5f53",
   "metadata": {},
   "source": [
    "# linespace"
   ]
  },
  {
   "cell_type": "code",
   "execution_count": 32,
   "id": "d4a59351",
   "metadata": {},
   "outputs": [
    {
     "name": "stdout",
     "output_type": "stream",
     "text": [
      "[ 0.  5. 10. 15. 20. 25. 30.]\n"
     ]
    }
   ],
   "source": [
    "ar_lin=nop.linspace(0,30,num=7)\n",
    "print(ar_lin)"
   ]
  },
  {
   "cell_type": "markdown",
   "id": "4a853318",
   "metadata": {},
   "source": [
    "\n",
    "# Random"
   ]
  },
  {
   "cell_type": "code",
   "execution_count": 4,
   "id": "0232ce36",
   "metadata": {},
   "outputs": [
    {
     "name": "stdout",
     "output_type": "stream",
     "text": [
      "[0.0893074  0.95472797 0.5154717  0.53045434 0.74921184 0.84877596\n",
      " 0.71469754 0.37732507 0.28122702 0.31179396]\n"
     ]
    }
   ],
   "source": [
    "from numpy import random\n",
    "import numpy as np\n",
    "var=np.random.rand(10)\n",
    "print(var)"
   ]
  },
  {
   "cell_type": "code",
   "execution_count": 6,
   "id": "6d4655d1",
   "metadata": {},
   "outputs": [
    {
     "name": "stdout",
     "output_type": "stream",
     "text": [
      "[[0.53128299 0.93321925 0.88727111 0.79083431 0.15241103]\n",
      " [0.46494613 0.29944489 0.3112756  0.60423787 0.63662134]]\n"
     ]
    }
   ],
   "source": [
    "var1=np.random.rand(2,5)\n",
    "print(var1)"
   ]
  },
  {
   "cell_type": "code",
   "execution_count": 7,
   "id": "ca59d235",
   "metadata": {},
   "outputs": [
    {
     "name": "stdout",
     "output_type": "stream",
     "text": [
      "[-0.26280222 -0.32383061 -1.33567271 -1.896439    1.91227157]\n"
     ]
    }
   ],
   "source": [
    "vr2=np.random.randn(5)\n",
    "print(vr2)"
   ]
  },
  {
   "cell_type": "code",
   "execution_count": 8,
   "id": "6055ef1d",
   "metadata": {},
   "outputs": [
    {
     "name": "stdout",
     "output_type": "stream",
     "text": [
      "[0.472504   0.47039987 0.95310581 0.94722797 0.85607191]\n"
     ]
    }
   ],
   "source": [
    "vr3=np.random.ranf(5)\n",
    "print(vr3)"
   ]
  },
  {
   "cell_type": "code",
   "execution_count": 17,
   "id": "252ae247",
   "metadata": {},
   "outputs": [
    {
     "name": "stdout",
     "output_type": "stream",
     "text": [
      "[360 261 306 177 388 380 381 254 386 155]\n"
     ]
    }
   ],
   "source": [
    "vr4=np.random.randint(100,500,10)\n",
    "print(vr4)"
   ]
  },
  {
   "cell_type": "markdown",
   "id": "8911786f",
   "metadata": {},
   "source": [
    "# Data Type (numpy)"
   ]
  },
  {
   "cell_type": "code",
   "execution_count": 18,
   "id": "610c6951",
   "metadata": {},
   "outputs": [
    {
     "name": "stdout",
     "output_type": "stream",
     "text": [
      "data type : int32\n"
     ]
    }
   ],
   "source": [
    "var5=np.array([1,3,4,6,8,9])\n",
    "print(\"data type :\",var5.dtype)"
   ]
  },
  {
   "cell_type": "code",
   "execution_count": 26,
   "id": "a8ea5e00",
   "metadata": {},
   "outputs": [
    {
     "name": "stdout",
     "output_type": "stream",
     "text": [
      "int64\n"
     ]
    }
   ],
   "source": [
    "vr6=np.array([1,2,3,4,5,6,7,8,9],dtype=np.int64)\n",
    "print(vr6.dtype)\n"
   ]
  },
  {
   "cell_type": "code",
   "execution_count": 29,
   "id": "e4de600c",
   "metadata": {},
   "outputs": [
    {
     "name": "stdout",
     "output_type": "stream",
     "text": [
      "float32\n"
     ]
    }
   ],
   "source": [
    "vr7 = np.array([1, 2, 3, 4, 5, 6, 7, 8, 9], dtype=np.float32)\n",
    "print(vr7.dtype)"
   ]
  },
  {
   "cell_type": "markdown",
   "id": "b34e9a19",
   "metadata": {},
   "source": [
    "# choice"
   ]
  },
  {
   "cell_type": "code",
   "execution_count": 34,
   "id": "e6ce7ff4",
   "metadata": {},
   "outputs": [
    {
     "name": "stdout",
     "output_type": "stream",
     "text": [
      "5\n"
     ]
    }
   ],
   "source": [
    "x=random.choice([3,4,6,7,8,9,0,1,23,4,5])\n",
    "print(x)"
   ]
  },
  {
   "cell_type": "code",
   "execution_count": 36,
   "id": "da9eccb3",
   "metadata": {},
   "outputs": [
    {
     "name": "stdout",
     "output_type": "stream",
     "text": [
      "[[ 1  7  8]\n",
      " [ 5  4  0]\n",
      " [ 4  8 23]\n",
      " [ 9  0  7]]\n"
     ]
    }
   ],
   "source": [
    "x=random.choice([3,4,6,7,8,9,0,1,23,4,5],size=(4,3))\n",
    "print(x)"
   ]
  },
  {
   "cell_type": "markdown",
   "id": "d2c3c462",
   "metadata": {},
   "source": [
    "# data distribution (choice)"
   ]
  },
  {
   "cell_type": "code",
   "execution_count": 37,
   "id": "95b60013",
   "metadata": {},
   "outputs": [
    {
     "name": "stdout",
     "output_type": "stream",
     "text": [
      "[  5   5 676   4 676   2   4  67]\n"
     ]
    }
   ],
   "source": [
    "x=random.choice([1,2,3,5,7,8,676,5,4,4,67],p=[.1,.2,.05,.02,.03,.03,.07,.2,.04,.06,.2],size=8)\n",
    "print(x)"
   ]
  },
  {
   "cell_type": "code",
   "execution_count": 38,
   "id": "1f36018d",
   "metadata": {},
   "outputs": [
    {
     "name": "stdout",
     "output_type": "stream",
     "text": [
      "[[67 67  4]\n",
      " [ 5  4  8]\n",
      " [ 5 67 67]\n",
      " [ 4  5 67]]\n"
     ]
    }
   ],
   "source": [
    "x=random.choice([1,2,3,5,7,8,676,5,4,4,67],p=[.1,.2,.05,.02,.03,.03,.07,.2,.04,.06,.2],size=(4,3))\n",
    "print(x)"
   ]
  },
  {
   "cell_type": "markdown",
   "id": "9bcebfd4",
   "metadata": {},
   "source": [
    "# Resheap"
   ]
  },
  {
   "cell_type": "code",
   "execution_count": 48,
   "id": "bc7bb723",
   "metadata": {},
   "outputs": [
    {
     "name": "stdout",
     "output_type": "stream",
     "text": [
      "[2 3 4 5 6 7 8 9]\n",
      "\n",
      "[[2 3]\n",
      " [4 5]\n",
      " [6 7]\n",
      " [8 9]]\n",
      "\n",
      "2\n"
     ]
    }
   ],
   "source": [
    "vr7=np.array([2,3,4,5,6,7,8,9])\n",
    "print(vr7)\n",
    "print()\n",
    "x=vr7.reshape(4,2)\n",
    "print(x)\n",
    "print()\n",
    "print(x.ndim)"
   ]
  },
  {
   "cell_type": "markdown",
   "id": "24ae61af",
   "metadata": {},
   "source": [
    "# Arithmetic Operation(numpy)"
   ]
  },
  {
   "cell_type": "code",
   "execution_count": 52,
   "id": "8128d274",
   "metadata": {},
   "outputs": [
    {
     "name": "stdout",
     "output_type": "stream",
     "text": [
      "[12 13 14 15 16]\n",
      "\n",
      "[14 16 18 20 22]\n"
     ]
    }
   ],
   "source": [
    "import numpy as np\n",
    "vr8=np.array([2,3,4,5,6])\n",
    "vr9=np.array([12,13,14,15,16])\n",
    "var_add=vr8 + 10\n",
    "print(var_add)\n",
    "\n",
    "print()\n",
    "\n",
    "var_add2=vr8 + vr9 \n",
    "print(var_add2)"
   ]
  },
  {
   "cell_type": "code",
   "execution_count": 55,
   "id": "a12a06fc",
   "metadata": {},
   "outputs": [
    {
     "name": "stdout",
     "output_type": "stream",
     "text": [
      "[0 1 2 0 4]\n"
     ]
    }
   ],
   "source": [
    "import numpy as np\n",
    "vr8=np.array([2,3,4,5,6])\n",
    "vr9=np.array([12,13,14,15,16])\n",
    "var_add2=vr9 % vr8\n",
    "print(var_add2)"
   ]
  },
  {
   "cell_type": "code",
   "execution_count": 54,
   "id": "1a7bc4ff",
   "metadata": {},
   "outputs": [
    {
     "name": "stdout",
     "output_type": "stream",
     "text": [
      "[-10 -10 -10 -10 -10]\n"
     ]
    }
   ],
   "source": [
    "import numpy as np\n",
    "vr8=np.array([2,3,4,5,6])\n",
    "vr9=np.array([12,13,14,15,16])\n",
    "var_add2=vr8 - vr9\n",
    "print(var_add2)"
   ]
  },
  {
   "cell_type": "code",
   "execution_count": 56,
   "id": "aaef388c",
   "metadata": {},
   "outputs": [
    {
     "name": "stdout",
     "output_type": "stream",
     "text": [
      "[24 39 56 75 96]\n"
     ]
    }
   ],
   "source": [
    "import numpy as np\n",
    "vr8=np.array([2,3,4,5,6])\n",
    "vr9=np.array([12,13,14,15,16])\n",
    "var_add2=vr8 * vr9\n",
    "print(var_add2)"
   ]
  },
  {
   "cell_type": "code",
   "execution_count": 58,
   "id": "e5165f27",
   "metadata": {},
   "outputs": [
    {
     "name": "stdout",
     "output_type": "stream",
     "text": [
      "[[14 16 18 20 22]\n",
      " [21 42 63 84 59]]\n"
     ]
    }
   ],
   "source": [
    "import numpy as np\n",
    "vr10=np.array([[2,3,4,5,6],[9,8,7,6,5]])\n",
    "vr11=np.array([[12,13,14,15,16],[12,34,56,78,54]])\n",
    "var_add3=vr10 + vr11\n",
    "print(var_add3)"
   ]
  },
  {
   "cell_type": "code",
   "execution_count": 3,
   "id": "30971a65",
   "metadata": {},
   "outputs": [
    {
     "name": "stdout",
     "output_type": "stream",
     "text": [
      "[[10 10 10 10 10]\n",
      " [ 3 26 49 72 49]]\n"
     ]
    }
   ],
   "source": [
    "import numpy as np\n",
    "vr10=np.array([[2,3,4,5,6],[9,8,7,6,5]])\n",
    "vr11=np.array([[12,13,14,15,16],[12,34,56,78,54]])\n",
    "var_add3=vr11 - vr10\n",
    "print(var_add3)"
   ]
  },
  {
   "cell_type": "code",
   "execution_count": 4,
   "id": "9bbd20f7",
   "metadata": {},
   "outputs": [
    {
     "name": "stdout",
     "output_type": "stream",
     "text": [
      "min:  2\n"
     ]
    }
   ],
   "source": [
    "vr7=np.array([2,3,4,5,6,7,8,9])\n",
    "print(\"min: \",np.min(vr7))"
   ]
  },
  {
   "cell_type": "code",
   "execution_count": 5,
   "id": "a92ab278",
   "metadata": {},
   "outputs": [
    {
     "name": "stdout",
     "output_type": "stream",
     "text": [
      "max:  9\n"
     ]
    }
   ],
   "source": [
    "vr7=np.array([2,3,4,5,6,7,8,9])\n",
    "print(\"max: \",np.max(vr7))"
   ]
  },
  {
   "cell_type": "code",
   "execution_count": 6,
   "id": "4f263299",
   "metadata": {},
   "outputs": [
    {
     "name": "stdout",
     "output_type": "stream",
     "text": [
      "min:  7\n"
     ]
    }
   ],
   "source": [
    "vr7=np.array([2,3,4,5,6,7,8,9])\n",
    "print(\"min: \",np.argmax(vr7))##argmin /argmax eta minimum or maximum er position bole day"
   ]
  },
  {
   "cell_type": "code",
   "execution_count": 7,
   "id": "8337a8ba",
   "metadata": {},
   "outputs": [
    {
     "name": "stdout",
     "output_type": "stream",
     "text": [
      "[2 3 4 6]\n"
     ]
    }
   ],
   "source": [
    "vr7=np.array([[2,3,4,6],[6,5,8,9]])\n",
    "print(np.min(vr7,axis=0))##axis=0 row er minimum,axis=1 colum er minimum"
   ]
  },
  {
   "cell_type": "code",
   "execution_count": 8,
   "id": "7128365b",
   "metadata": {},
   "outputs": [
    {
     "name": "stdout",
     "output_type": "stream",
     "text": [
      "[[1.41421356 1.73205081 2.         2.44948974]\n",
      " [2.44948974 2.23606798 2.82842712 3.        ]]\n"
     ]
    }
   ],
   "source": [
    "vr7=np.array([[2,3,4,6],[6,5,8,9]])\n",
    "print(np.sqrt(vr7))"
   ]
  },
  {
   "cell_type": "markdown",
   "id": "29b4b83e",
   "metadata": {},
   "source": [
    "# Cumsum"
   ]
  },
  {
   "cell_type": "code",
   "execution_count": 9,
   "id": "af35c49a",
   "metadata": {},
   "outputs": [
    {
     "name": "stdout",
     "output_type": "stream",
     "text": [
      "[1 3 6]\n"
     ]
    }
   ],
   "source": [
    "var10=np.array([1,2,3])\n",
    "print(np.cumsum(var10))"
   ]
  },
  {
   "cell_type": "markdown",
   "id": "8e696dfa",
   "metadata": {},
   "source": [
    "# Broadcasting"
   ]
  },
  {
   "cell_type": "code",
   "execution_count": 1,
   "id": "2d3ffacf",
   "metadata": {},
   "outputs": [
    {
     "name": "stdout",
     "output_type": "stream",
     "text": [
      "[1 2 3]\n",
      "(3,)\n",
      "\n",
      "[[1]\n",
      " [2]\n",
      " [3]]\n",
      "(3, 1)\n",
      "\n",
      "[[2 3 4]\n",
      " [3 4 5]\n",
      " [4 5 6]]\n"
     ]
    }
   ],
   "source": [
    "import numpy as np\n",
    "vir1=np.array([1,2,3])\n",
    "vir2=np.array([[1],[2],[3]])\n",
    "print(vir1)\n",
    "print(vir1.shape)\n",
    "print()\n",
    "print(vir2)\n",
    "print(vir2.shape)\n",
    "print()\n",
    "print(vir1 + vir2)"
   ]
  },
  {
   "cell_type": "markdown",
   "id": "0642a5c2",
   "metadata": {},
   "source": [
    "# nditer() funtion. ..multiple loop  = nditer()"
   ]
  },
  {
   "cell_type": "code",
   "execution_count": 15,
   "id": "077efc07",
   "metadata": {},
   "outputs": [
    {
     "name": "stdout",
     "output_type": "stream",
     "text": [
      "3\n",
      "\n",
      "2\n",
      "\n",
      "1\n",
      "2\n",
      "3\n",
      "4\n",
      "5\n",
      "4\n",
      "5\n",
      "6\n",
      "7\n",
      "8\n",
      "\n",
      "b'1'\n",
      "b'2'\n",
      "b'3'\n",
      "b'4'\n",
      "b'5'\n",
      "b'4'\n",
      "b'5'\n",
      "b'6'\n",
      "b'7'\n",
      "b'8'\n"
     ]
    }
   ],
   "source": [
    "vir3=np.array([[[1,2,3,4,5],[4,5,6,7,8]]])\n",
    "print(vir3.ndim)\n",
    "print()\n",
    "vir4=np.array([[1,2,3,4,5],[4,5,6,7,8]])\n",
    "print(vir4.ndim)\n",
    "print()\n",
    "\n",
    "for i in np.nditer(vir3):\n",
    "    print(i)\n",
    "print()\n",
    "\n",
    "for i in np.nditer(vir3,flags=['buffered'],op_dtypes=[\"S\"]):\n",
    "    print(i)"
   ]
  },
  {
   "cell_type": "code",
   "execution_count": 18,
   "id": "268a2009",
   "metadata": {},
   "outputs": [
    {
     "name": "stdout",
     "output_type": "stream",
     "text": [
      "(0, 0, 0) 1\n",
      "(0, 0, 1) 2\n",
      "(0, 0, 2) 3\n",
      "(0, 0, 3) 4\n",
      "(0, 0, 4) 5\n",
      "(0, 1, 0) 4\n",
      "(0, 1, 1) 5\n",
      "(0, 1, 2) 6\n",
      "(0, 1, 3) 7\n",
      "(0, 1, 4) 8\n"
     ]
    }
   ],
   "source": [
    "vir5=np.array([[[1,2,3,4,5],[4,5,6,7,8]]])\n",
    "for i in np.nditer(vir3):\n",
    "    print(i)"
   ]
  },
  {
   "cell_type": "markdown",
   "id": "f905141d",
   "metadata": {},
   "source": [
    "# JOIN stack works in row and dstake woths in colum"
   ]
  },
  {
   "cell_type": "code",
   "execution_count": 23,
   "id": "787b215c",
   "metadata": {},
   "outputs": [
    {
     "name": "stdout",
     "output_type": "stream",
     "text": [
      "[[1 2 3 7 5]\n",
      " [4 5 6 9 6]]\n",
      "\n",
      "[[1 4]\n",
      " [2 5]\n",
      " [3 6]\n",
      " [7 9]\n",
      " [5 6]]\n"
     ]
    }
   ],
   "source": [
    "import numpy as np\n",
    "arr1 = np.array([1, 2, 3,7,5])\n",
    "arr2 = np.array([4, 5, 6,9,6])\n",
    "arr = np.stack((arr1, arr2), axis=0)\n",
    "print(arr)\n",
    "print()\n",
    "arr = np.stack((arr1, arr2), axis=1)\n",
    "print(arr)"
   ]
  },
  {
   "cell_type": "markdown",
   "id": "a28b919a",
   "metadata": {},
   "source": [
    "# split"
   ]
  },
  {
   "cell_type": "code",
   "execution_count": 24,
   "id": "e86b795b",
   "metadata": {},
   "outputs": [
    {
     "name": "stdout",
     "output_type": "stream",
     "text": [
      "[array([[ 1],\n",
      "       [ 4],\n",
      "       [ 7],\n",
      "       [10],\n",
      "       [13],\n",
      "       [16]]), array([[ 2],\n",
      "       [ 5],\n",
      "       [ 8],\n",
      "       [11],\n",
      "       [14],\n",
      "       [17]]), array([[ 3],\n",
      "       [ 6],\n",
      "       [ 9],\n",
      "       [12],\n",
      "       [15],\n",
      "       [18]])]\n"
     ]
    }
   ],
   "source": [
    "import numpy as np\n",
    "arr = np.array([[1, 2, 3], [4, 5, 6], [7, 8, 9], [10, 11, 12], [13, 14, 15], [16, 17, 18]])\n",
    "newarr = np.hsplit(arr, 3)\n",
    "print(newarr)\n"
   ]
  },
  {
   "cell_type": "markdown",
   "id": "24f07e23",
   "metadata": {},
   "source": [
    "# Suffel, Unique, resize, flatten, ravel"
   ]
  },
  {
   "cell_type": "code",
   "execution_count": 3,
   "id": "ae92ced1",
   "metadata": {},
   "outputs": [
    {
     "name": "stdout",
     "output_type": "stream",
     "text": [
      "[1 3 2 5 4]\n"
     ]
    }
   ],
   "source": [
    "from numpy import random\n",
    "import numpy as np\n",
    "arr = np.array([1, 2, 3, 4, 5])\n",
    "random.shuffle(arr)\n",
    "print(arr)\n"
   ]
  },
  {
   "cell_type": "code",
   "execution_count": 4,
   "id": "2232cff2",
   "metadata": {},
   "outputs": [
    {
     "name": "stdout",
     "output_type": "stream",
     "text": [
      "[ 1  2  3  4  5  6  7 75]\n",
      "\n",
      "(array([ 1,  2,  3,  4,  5,  6,  7, 75]), array([ 0, 14,  4,  1,  5, 17,  2,  7], dtype=int64), array([1, 2, 5, 5, 3, 1, 3, 1], dtype=int64))\n"
     ]
    }
   ],
   "source": [
    "var5=np.array([1,4,7,4,3,5,7,75,4,3,5,7,4,3,2,2,4,6,5,3,3])\n",
    "x=np.unique(var5)\n",
    "print(x)\n",
    "print()\n",
    "var5=np.array([1,4,7,4,3,5,7,75,4,3,5,7,4,3,2,2,4,6,5,3,3])\n",
    "x=np.unique(var5,return_index=True,return_counts=True)\n",
    "print(x)"
   ]
  },
  {
   "cell_type": "code",
   "execution_count": 5,
   "id": "e8f5f895",
   "metadata": {},
   "outputs": [
    {
     "name": "stdout",
     "output_type": "stream",
     "text": [
      "[[1 2 3]\n",
      " [4 5 6]]\n"
     ]
    }
   ],
   "source": [
    "var2=([1,2,3,4,5,6])\n",
    "y=np.resize(var2,(2,3))\n",
    "print(y)"
   ]
  },
  {
   "cell_type": "code",
   "execution_count": 8,
   "id": "6eae790d",
   "metadata": {},
   "outputs": [
    {
     "name": "stdout",
     "output_type": "stream",
     "text": [
      "[ 1  2 50  3  4  5  6  7  8]\n",
      "\n",
      "[ 1  2 40  3 40  4  5  6  7  8]\n"
     ]
    }
   ],
   "source": [
    "var5=([1,2,3,4,5,6,7,8])\n",
    "x=np.insert(var5,2,50)\n",
    "print(x)\n",
    "print()\n",
    "y=np.insert(var5,[2,3], 40)\n",
    "print(y)"
   ]
  },
  {
   "cell_type": "markdown",
   "id": "7d79fa0e",
   "metadata": {},
   "source": [
    "# Insert and delet"
   ]
  },
  {
   "cell_type": "code",
   "execution_count": 13,
   "id": "1ef642b4",
   "metadata": {},
   "outputs": [
    {
     "name": "stdout",
     "output_type": "stream",
     "text": [
      "[[[1 2 3]\n",
      "  [4 5 6]\n",
      "  [7 8 9]]]\n"
     ]
    }
   ],
   "source": [
    "var5=np.array([[[1,2,3],[4,5,6]]])\n",
    "x=np.insert(var5,2,[7,8,9],axis=1)\n",
    "print(x)"
   ]
  },
  {
   "cell_type": "code",
   "execution_count": 18,
   "id": "995244b6",
   "metadata": {},
   "outputs": [
    {
     "name": "stdout",
     "output_type": "stream",
     "text": [
      "[1 2 4 5 6 7 8]\n",
      "\n",
      "[1 2 5 6 7 8]\n"
     ]
    }
   ],
   "source": [
    "var5=np.array([1,2,3,4,5,6,7,8])\n",
    "x=np.delete(var5,2)\n",
    "print(x)\n",
    "print()\n",
    "y=np.delete(var5,[2,3])\n",
    "print(y)"
   ]
  },
  {
   "cell_type": "markdown",
   "id": "e8c1df18",
   "metadata": {},
   "source": [
    "# matrix"
   ]
  },
  {
   "cell_type": "code",
   "execution_count": 22,
   "id": "cd5b0d61",
   "metadata": {},
   "outputs": [
    {
     "name": "stdout",
     "output_type": "stream",
     "text": [
      "[[ 7  4 12]\n",
      " [ 5 39  9]]\n"
     ]
    }
   ],
   "source": [
    "var5=np.matrix([[1,2,3],[4,5,6]])\n",
    "var6=np.matrix([[6,2,9],[1,34,3]])\n",
    "print(var5 + var6)"
   ]
  },
  {
   "cell_type": "code",
   "execution_count": 26,
   "id": "84215296",
   "metadata": {},
   "outputs": [
    {
     "name": "stdout",
     "output_type": "stream",
     "text": [
      "[[  23  304  111]\n",
      " [  59  646  243]\n",
      " [ 370 2846  824]]\n"
     ]
    }
   ],
   "source": [
    "var5=np.matrix([[1,2,3],[4,5,6],[45,65,7]])\n",
    "var6=np.matrix([[6,2,9],[1,34,3],[5,78,32]])\n",
    "print(var5*var6)\n"
   ]
  },
  {
   "cell_type": "markdown",
   "id": "c8a5165f",
   "metadata": {},
   "source": [
    "# Baler matrix er 14 gusti"
   ]
  },
  {
   "cell_type": "markdown",
   "id": "f6e3012b",
   "metadata": {},
   "source": [
    "# transpose"
   ]
  },
  {
   "cell_type": "code",
   "execution_count": 29,
   "id": "98f083db",
   "metadata": {},
   "outputs": [
    {
     "name": "stdout",
     "output_type": "stream",
     "text": [
      "[[1 2 3]\n",
      " [4 5 6]]\n",
      "\n",
      "[[1 4]\n",
      " [2 5]\n",
      " [3 6]]\n"
     ]
    }
   ],
   "source": [
    "var5=np.matrix([[1,2,3],[4,5,6]])\n",
    "print(var5)\n",
    "print()\n",
    "print(np.transpose(var5))"
   ]
  },
  {
   "cell_type": "code",
   "execution_count": 34,
   "id": "7616c0ec",
   "metadata": {},
   "outputs": [
    {
     "name": "stdout",
     "output_type": "stream",
     "text": [
      "\n",
      "[[1 4]\n",
      " [2 5]\n",
      " [3 6]]\n"
     ]
    }
   ],
   "source": [
    "var5=np.matrix([[1,2,3],[4,5,6]])\n",
    "#swap axis\n",
    "print()\n",
    "print(np.swapaxes(var5,0,1))"
   ]
  },
  {
   "cell_type": "code",
   "execution_count": 38,
   "id": "29d0a47e",
   "metadata": {},
   "outputs": [
    {
     "name": "stdout",
     "output_type": "stream",
     "text": [
      "\n",
      "[[-1.66666667  0.66666667]\n",
      " [ 1.33333333 -0.33333333]]\n"
     ]
    }
   ],
   "source": [
    "var5=np.matrix([[1,2],[4,5]])\n",
    "#inverse\n",
    "print(np.linalg.inv(var5))"
   ]
  },
  {
   "cell_type": "code",
   "execution_count": null,
   "id": "a1486bb4",
   "metadata": {},
   "outputs": [],
   "source": [
    "var5=np.matrix([[1,2],[4,5]])\n",
    "#inverse\n",
    "print(np.linalg.inv(var5))"
   ]
  }
 ],
 "metadata": {
  "kernelspec": {
   "display_name": "Python 3 (ipykernel)",
   "language": "python",
   "name": "python3"
  },
  "language_info": {
   "codemirror_mode": {
    "name": "ipython",
    "version": 3
   },
   "file_extension": ".py",
   "mimetype": "text/x-python",
   "name": "python",
   "nbconvert_exporter": "python",
   "pygments_lexer": "ipython3",
   "version": "3.11.5"
  }
 },
 "nbformat": 4,
 "nbformat_minor": 5
}
